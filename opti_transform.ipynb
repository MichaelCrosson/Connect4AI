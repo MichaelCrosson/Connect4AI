{
  "nbformat": 4,
  "nbformat_minor": 0,
  "metadata": {
    "colab": {
      "provenance": [],
      "gpuType": "T4",
      "include_colab_link": true
    },
    "kernelspec": {
      "name": "python3",
      "display_name": "Python 3"
    },
    "language_info": {
      "name": "python"
    },
    "accelerator": "GPU"
  },
  "cells": [
    {
      "cell_type": "markdown",
      "metadata": {
        "id": "view-in-github",
        "colab_type": "text"
      },
      "source": [
        "<a href=\"https://colab.research.google.com/github/MichaelCrosson/Connect4AI/blob/main/opti_transform.ipynb\" target=\"_parent\"><img src=\"https://colab.research.google.com/assets/colab-badge.svg\" alt=\"Open In Colab\"/></a>"
      ]
    },
    {
      "cell_type": "code",
      "execution_count": 1,
      "metadata": {
        "id": "gIlcxX22faxF"
      },
      "outputs": [],
      "source": [
        "import numpy as np\n",
        "import pickle\n",
        "import torch\n",
        "import torch.nn as nn\n",
        "import torch.optim as optim\n",
        "from torch.utils.data import DataLoader, TensorDataset\n",
        "from sklearn.model_selection import KFold\n",
        "from collections import Counter\n"
      ]
    },
    {
      "cell_type": "code",
      "source": [
        "from google.colab import drive\n",
        "drive.mount('/content/drive/')"
      ],
      "metadata": {
        "colab": {
          "base_uri": "https://localhost:8080/"
        },
        "id": "Vr_-PyjKfdTv",
        "outputId": "48f677e3-2028-455c-cc18-8f5415b5324d"
      },
      "execution_count": null,
      "outputs": [
        {
          "output_type": "stream",
          "name": "stdout",
          "text": [
            "Drive already mounted at /content/drive/; to attempt to forcibly remount, call drive.mount(\"/content/drive/\", force_remount=True).\n"
          ]
        }
      ]
    },
    {
      "cell_type": "code",
      "source": [
        "# Load the dataset\n",
        "save_path = \"mcts7500_pool.pickle\"\n",
        "with open(save_path, \"rb\") as f:\n",
        "    dataset_original = pickle.load(f)\n",
        "\n",
        "\n",
        "print(f\"Loaded dataset from {save_path} with {len(dataset_original)} entries.\")"
      ],
      "metadata": {
        "colab": {
          "base_uri": "https://localhost:8080/"
        },
        "id": "HsBTxjYof8wU",
        "outputId": "e383ed2b-1514-40e1-e5b4-4ea9e8d0e3af"
      },
      "execution_count": 2,
      "outputs": [
        {
          "output_type": "stream",
          "name": "stdout",
          "text": [
            "Loaded dataset from mcts7500_pool.pickle with 3 entries.\n"
          ]
        }
      ]
    },
    {
      "cell_type": "code",
      "source": [
        "dataset_original.keys()"
      ],
      "metadata": {
        "colab": {
          "base_uri": "https://localhost:8080/"
        },
        "id": "_nIDQYqhixyW",
        "outputId": "504c7c5c-d799-401b-c01e-73d46e236ad7"
      },
      "execution_count": 3,
      "outputs": [
        {
          "output_type": "execute_result",
          "data": {
            "text/plain": [
              "dict_keys(['board_x', 'play_y', 'README'])"
            ]
          },
          "metadata": {},
          "execution_count": 3
        }
      ]
    },
    {
      "cell_type": "code",
      "source": [
        "dataset_original['board_x'][0]"
      ],
      "metadata": {
        "colab": {
          "base_uri": "https://localhost:8080/"
        },
        "id": "VoGIZoFNi5nc",
        "outputId": "f5200526-e109-4a9e-f418-442f7c9b20c0"
      },
      "execution_count": 4,
      "outputs": [
        {
          "output_type": "execute_result",
          "data": {
            "text/plain": [
              "array([[ 0.,  0.,  0.,  0.,  0.,  0.,  0.],\n",
              "       [ 0.,  0.,  0.,  0.,  0.,  0.,  0.],\n",
              "       [ 0.,  0.,  0.,  0.,  0.,  0.,  0.],\n",
              "       [ 0.,  0.,  0.,  0.,  0.,  0.,  0.],\n",
              "       [ 0.,  0.,  0.,  0.,  1., -1.,  1.],\n",
              "       [-1.,  1.,  0.,  0.,  1., -1., -1.]])"
            ]
          },
          "metadata": {},
          "execution_count": 4
        }
      ]
    },
    {
      "cell_type": "code",
      "source": [
        "len(dataset_original['play_y'])"
      ],
      "metadata": {
        "colab": {
          "base_uri": "https://localhost:8080/"
        },
        "id": "J5cIN4qsf8uH",
        "outputId": "e5b32d86-e9fb-4eb6-e312-41c76e1ee686"
      },
      "execution_count": 5,
      "outputs": [
        {
          "output_type": "execute_result",
          "data": {
            "text/plain": [
              "265620"
            ]
          },
          "metadata": {},
          "execution_count": 5
        }
      ]
    },
    {
      "cell_type": "code",
      "source": [
        "x = np.array(dataset_original['board_x'])\n",
        "y = np.array(dataset_original['play_y'])"
      ],
      "metadata": {
        "id": "tNomVmvxf8r1"
      },
      "execution_count": 6,
      "outputs": []
    },
    {
      "cell_type": "code",
      "source": [
        "x.shape"
      ],
      "metadata": {
        "colab": {
          "base_uri": "https://localhost:8080/"
        },
        "id": "2bbjjltEf8pS",
        "outputId": "eea947d5-6c83-4ac4-a412-75525eafea6a"
      },
      "execution_count": 7,
      "outputs": [
        {
          "output_type": "execute_result",
          "data": {
            "text/plain": [
              "(265620, 6, 7)"
            ]
          },
          "metadata": {},
          "execution_count": 7
        }
      ]
    },
    {
      "cell_type": "code",
      "source": [
        "import numpy as np\n",
        "\n",
        "# Load original dataset\n",
        "# x = np.load(\"x.npy\")  # Shape: (num_samples, 6, 7)\n",
        "# y = np.load(\"y.npy\")  # Shape: (num_samples,)\n",
        "\n",
        "# Function to mirror board positions\n",
        "def mirror_board(board):\n",
        "    return np.flip(board, axis=1)  # Flip along columns\n",
        "\n",
        "# Function to mirror move positions\n",
        "def mirror_move(move):\n",
        "    return 6 - move  # Since columns are indexed 0-6\n",
        "\n",
        "# Create mirrored dataset\n",
        "x_mirrored = np.array([mirror_board(board) for board in x])\n",
        "y_mirrored = np.array([mirror_move(move) for move in y])\n",
        "\n",
        "# Concatenate original and mirrored data\n",
        "x_augmented = np.concatenate([x, x_mirrored], axis=0)\n",
        "y_augmented = np.concatenate([y, y_mirrored], axis=0)\n",
        "\n",
        "# Save the augmented dataset\n",
        "np.save(\"x_augmented.npy\", x_augmented)\n",
        "np.save(\"y_augmented.npy\", y_augmented)\n",
        "\n",
        "print(\"Dataset has been successfully augmented. New size:\", x_augmented.shape[0])\n"
      ],
      "metadata": {
        "colab": {
          "base_uri": "https://localhost:8080/"
        },
        "id": "8QH9xz9Sf8h8",
        "outputId": "5d9c2306-b50f-4ba4-8b6c-4fc7dc2bd61f"
      },
      "execution_count": 8,
      "outputs": [
        {
          "output_type": "stream",
          "name": "stdout",
          "text": [
            "Dataset has been successfully augmented. New size: 531240\n"
          ]
        }
      ]
    },
    {
      "cell_type": "code",
      "source": [],
      "metadata": {
        "id": "jD8jDf-LljVY"
      },
      "execution_count": null,
      "outputs": []
    },
    {
      "cell_type": "code",
      "source": [
        "import numpy as np\n",
        "import tensorflow as tf\n",
        "from tensorflow import keras\n",
        "from tensorflow.keras import layers\n",
        "\n",
        "# Function to compute sinusoidal positional encoding\n",
        "def positional_encoding(seq_length, model_dim):\n",
        "    positions = np.arange(seq_length)[:, np.newaxis]\n",
        "    div_term = np.exp(np.arange(0, model_dim, 2) * (-np.log(10000.0) / model_dim))\n",
        "\n",
        "    pos_enc = np.zeros((seq_length, model_dim))\n",
        "    pos_enc[:, 0::2] = np.sin(positions * div_term)  # Apply sin to even indices\n",
        "    pos_enc[:, 1::2] = np.cos(positions * div_term)  # Apply cos to odd indices\n",
        "\n",
        "    return tf.convert_to_tensor(pos_enc, dtype=tf.float32)\n",
        "\n",
        "# Apply positional encoding\n",
        "def add_positional_encoding(x, model_dim=64):\n",
        "    pos_encoding = positional_encoding(x.shape[1], model_dim)\n",
        "    return x + pos_encoding\n"
      ],
      "metadata": {
        "id": "v2HTzhzooO9G"
      },
      "execution_count": 10,
      "outputs": []
    },
    {
      "cell_type": "code",
      "source": [
        "def build_transformer_model():\n",
        "    inputs = keras.Input(shape=(6, 7, 1))  # Input shape: (6,7)\n",
        "\n",
        "    # Flatten the board into a sequence\n",
        "    x = layers.Reshape((42, 1))(inputs)\n",
        "\n",
        "    # Embedding layer to map to higher dimensions\n",
        "    x = layers.Dense(64, activation=\"relu\")(x)\n",
        "\n",
        "    # Add positional encoding\n",
        "    x = add_positional_encoding(x, model_dim=64)\n",
        "\n",
        "    # Transformer block 1\n",
        "    attn_output = layers.MultiHeadAttention(num_heads=4, key_dim=32)(x, x)\n",
        "    x = layers.Add()([x, attn_output])\n",
        "    x = layers.LayerNormalization(epsilon=1e-6)(x)\n",
        "\n",
        "    # Transformer block 2\n",
        "    attn_output = layers.MultiHeadAttention(num_heads=4, key_dim=32)(x, x)\n",
        "    x = layers.Add()([x, attn_output])\n",
        "    x = layers.LayerNormalization(epsilon=1e-6)(x)\n",
        "\n",
        "    # Feedforward network\n",
        "    x = layers.Dense(128, activation=\"relu\")(x)\n",
        "    x = layers.Dense(64, activation=\"relu\")(x)\n",
        "\n",
        "    # Output layer for move prediction (7 classes, one for each column)\n",
        "    outputs = layers.Dense(7, activation=\"softmax\")(x[:, 0, :])  # Predict from the first token\n",
        "\n",
        "    model = keras.Model(inputs, outputs)\n",
        "    return model\n"
      ],
      "metadata": {
        "id": "f-2mo2A9oO7D"
      },
      "execution_count": 11,
      "outputs": []
    },
    {
      "cell_type": "code",
      "source": [
        "# Load augmented dataset\n",
        "x_train = np.load(\"x_augmented.npy\")  # Shape: (num_samples, 6, 7)\n",
        "y_train = np.load(\"y_augmented.npy\")  # Shape: (num_samples,)\n",
        "\n",
        "# Reshape input to (num_samples, 6, 7, 1)\n",
        "x_train = x_train[..., np.newaxis]\n",
        "\n",
        "# Compile and train the model\n",
        "model = build_transformer_model()\n",
        "model.compile(optimizer=\"adam\", loss=\"sparse_categorical_crossentropy\", metrics=[\"accuracy\"])\n",
        "\n",
        "# Train the model\n",
        "model.fit(x_train, y_train, epochs=30, batch_size=32, validation_split=0.1)\n",
        "\n",
        "# Save the trained model\n",
        "model.save(\"connect4_transformer_positional.h5\")\n",
        "\n",
        "print(\"Training completed with positional encoding and model saved.\")\n"
      ],
      "metadata": {
        "colab": {
          "base_uri": "https://localhost:8080/"
        },
        "id": "c3z2IjbUoO42",
        "outputId": "ab4d5a54-e553-4691-a7e5-cc5e63973fd0"
      },
      "execution_count": 12,
      "outputs": [
        {
          "output_type": "stream",
          "name": "stdout",
          "text": [
            "Epoch 1/30\n",
            "\u001b[1m14942/14942\u001b[0m \u001b[32m━━━━━━━━━━━━━━━━━━━━\u001b[0m\u001b[37m\u001b[0m \u001b[1m79s\u001b[0m 5ms/step - accuracy: 0.2587 - loss: 1.7707 - val_accuracy: 0.3541 - val_loss: 1.5516\n",
            "Epoch 2/30\n",
            "\u001b[1m14942/14942\u001b[0m \u001b[32m━━━━━━━━━━━━━━━━━━━━\u001b[0m\u001b[37m\u001b[0m \u001b[1m77s\u001b[0m 5ms/step - accuracy: 0.3570 - loss: 1.5308 - val_accuracy: 0.3749 - val_loss: 1.4924\n",
            "Epoch 3/30\n",
            "\u001b[1m14942/14942\u001b[0m \u001b[32m━━━━━━━━━━━━━━━━━━━━\u001b[0m\u001b[37m\u001b[0m \u001b[1m70s\u001b[0m 5ms/step - accuracy: 0.3788 - loss: 1.4852 - val_accuracy: 0.3965 - val_loss: 1.4525\n",
            "Epoch 4/30\n",
            "\u001b[1m14942/14942\u001b[0m \u001b[32m━━━━━━━━━━━━━━━━━━━━\u001b[0m\u001b[37m\u001b[0m \u001b[1m70s\u001b[0m 5ms/step - accuracy: 0.3982 - loss: 1.4452 - val_accuracy: 0.4080 - val_loss: 1.4282\n",
            "Epoch 5/30\n",
            "\u001b[1m14942/14942\u001b[0m \u001b[32m━━━━━━━━━━━━━━━━━━━━\u001b[0m\u001b[37m\u001b[0m \u001b[1m70s\u001b[0m 5ms/step - accuracy: 0.4098 - loss: 1.4255 - val_accuracy: 0.4104 - val_loss: 1.4138\n",
            "Epoch 6/30\n",
            "\u001b[1m14942/14942\u001b[0m \u001b[32m━━━━━━━━━━━━━━━━━━━━\u001b[0m\u001b[37m\u001b[0m \u001b[1m84s\u001b[0m 5ms/step - accuracy: 0.4177 - loss: 1.4073 - val_accuracy: 0.4201 - val_loss: 1.4044\n",
            "Epoch 7/30\n",
            "\u001b[1m14942/14942\u001b[0m \u001b[32m━━━━━━━━━━━━━━━━━━━━\u001b[0m\u001b[37m\u001b[0m \u001b[1m72s\u001b[0m 5ms/step - accuracy: 0.4231 - loss: 1.3962 - val_accuracy: 0.4275 - val_loss: 1.3848\n",
            "Epoch 8/30\n",
            "\u001b[1m14942/14942\u001b[0m \u001b[32m━━━━━━━━━━━━━━━━━━━━\u001b[0m\u001b[37m\u001b[0m \u001b[1m83s\u001b[0m 5ms/step - accuracy: 0.4279 - loss: 1.3851 - val_accuracy: 0.4257 - val_loss: 1.3910\n",
            "Epoch 9/30\n",
            "\u001b[1m14942/14942\u001b[0m \u001b[32m━━━━━━━━━━━━━━━━━━━━\u001b[0m\u001b[37m\u001b[0m \u001b[1m72s\u001b[0m 5ms/step - accuracy: 0.4318 - loss: 1.3763 - val_accuracy: 0.4398 - val_loss: 1.3620\n",
            "Epoch 10/30\n",
            "\u001b[1m14942/14942\u001b[0m \u001b[32m━━━━━━━━━━━━━━━━━━━━\u001b[0m\u001b[37m\u001b[0m \u001b[1m75s\u001b[0m 5ms/step - accuracy: 0.4379 - loss: 1.3674 - val_accuracy: 0.4369 - val_loss: 1.3658\n",
            "Epoch 11/30\n",
            "\u001b[1m14942/14942\u001b[0m \u001b[32m━━━━━━━━━━━━━━━━━━━━\u001b[0m\u001b[37m\u001b[0m \u001b[1m72s\u001b[0m 5ms/step - accuracy: 0.4395 - loss: 1.3598 - val_accuracy: 0.4446 - val_loss: 1.3530\n",
            "Epoch 12/30\n",
            "\u001b[1m14942/14942\u001b[0m \u001b[32m━━━━━━━━━━━━━━━━━━━━\u001b[0m\u001b[37m\u001b[0m \u001b[1m79s\u001b[0m 5ms/step - accuracy: 0.4443 - loss: 1.3542 - val_accuracy: 0.4409 - val_loss: 1.3534\n",
            "Epoch 13/30\n",
            "\u001b[1m14942/14942\u001b[0m \u001b[32m━━━━━━━━━━━━━━━━━━━━\u001b[0m\u001b[37m\u001b[0m \u001b[1m85s\u001b[0m 5ms/step - accuracy: 0.4491 - loss: 1.3458 - val_accuracy: 0.4470 - val_loss: 1.3462\n",
            "Epoch 14/30\n",
            "\u001b[1m14942/14942\u001b[0m \u001b[32m━━━━━━━━━━━━━━━━━━━━\u001b[0m\u001b[37m\u001b[0m \u001b[1m73s\u001b[0m 5ms/step - accuracy: 0.4482 - loss: 1.3436 - val_accuracy: 0.4460 - val_loss: 1.3473\n",
            "Epoch 15/30\n",
            "\u001b[1m14942/14942\u001b[0m \u001b[32m━━━━━━━━━━━━━━━━━━━━\u001b[0m\u001b[37m\u001b[0m \u001b[1m72s\u001b[0m 5ms/step - accuracy: 0.4516 - loss: 1.3397 - val_accuracy: 0.4477 - val_loss: 1.3481\n",
            "Epoch 16/30\n",
            "\u001b[1m14942/14942\u001b[0m \u001b[32m━━━━━━━━━━━━━━━━━━━━\u001b[0m\u001b[37m\u001b[0m \u001b[1m72s\u001b[0m 5ms/step - accuracy: 0.4522 - loss: 1.3378 - val_accuracy: 0.4456 - val_loss: 1.3613\n",
            "Epoch 17/30\n",
            "\u001b[1m14942/14942\u001b[0m \u001b[32m━━━━━━━━━━━━━━━━━━━━\u001b[0m\u001b[37m\u001b[0m \u001b[1m83s\u001b[0m 5ms/step - accuracy: 0.4529 - loss: 1.3328 - val_accuracy: 0.4439 - val_loss: 1.3550\n",
            "Epoch 18/30\n",
            "\u001b[1m14942/14942\u001b[0m \u001b[32m━━━━━━━━━━━━━━━━━━━━\u001b[0m\u001b[37m\u001b[0m \u001b[1m82s\u001b[0m 5ms/step - accuracy: 0.4566 - loss: 1.3275 - val_accuracy: 0.4479 - val_loss: 1.3480\n",
            "Epoch 19/30\n",
            "\u001b[1m14942/14942\u001b[0m \u001b[32m━━━━━━━━━━━━━━━━━━━━\u001b[0m\u001b[37m\u001b[0m \u001b[1m71s\u001b[0m 5ms/step - accuracy: 0.4570 - loss: 1.3252 - val_accuracy: 0.4515 - val_loss: 1.3362\n",
            "Epoch 20/30\n",
            "\u001b[1m14942/14942\u001b[0m \u001b[32m━━━━━━━━━━━━━━━━━━━━\u001b[0m\u001b[37m\u001b[0m \u001b[1m71s\u001b[0m 5ms/step - accuracy: 0.4591 - loss: 1.3209 - val_accuracy: 0.4541 - val_loss: 1.3309\n",
            "Epoch 21/30\n",
            "\u001b[1m14942/14942\u001b[0m \u001b[32m━━━━━━━━━━━━━━━━━━━━\u001b[0m\u001b[37m\u001b[0m \u001b[1m81s\u001b[0m 5ms/step - accuracy: 0.4609 - loss: 1.3184 - val_accuracy: 0.4501 - val_loss: 1.3423\n",
            "Epoch 22/30\n",
            "\u001b[1m14942/14942\u001b[0m \u001b[32m━━━━━━━━━━━━━━━━━━━━\u001b[0m\u001b[37m\u001b[0m \u001b[1m74s\u001b[0m 5ms/step - accuracy: 0.4610 - loss: 1.3172 - val_accuracy: 0.4550 - val_loss: 1.3363\n",
            "Epoch 23/30\n",
            "\u001b[1m14942/14942\u001b[0m \u001b[32m━━━━━━━━━━━━━━━━━━━━\u001b[0m\u001b[37m\u001b[0m \u001b[1m75s\u001b[0m 5ms/step - accuracy: 0.4614 - loss: 1.3152 - val_accuracy: 0.4550 - val_loss: 1.3271\n",
            "Epoch 24/30\n",
            "\u001b[1m14942/14942\u001b[0m \u001b[32m━━━━━━━━━━━━━━━━━━━━\u001b[0m\u001b[37m\u001b[0m \u001b[1m73s\u001b[0m 5ms/step - accuracy: 0.4652 - loss: 1.3114 - val_accuracy: 0.4504 - val_loss: 1.3323\n",
            "Epoch 25/30\n",
            "\u001b[1m14942/14942\u001b[0m \u001b[32m━━━━━━━━━━━━━━━━━━━━\u001b[0m\u001b[37m\u001b[0m \u001b[1m82s\u001b[0m 5ms/step - accuracy: 0.4643 - loss: 1.3091 - val_accuracy: 0.4604 - val_loss: 1.3195\n",
            "Epoch 26/30\n",
            "\u001b[1m14942/14942\u001b[0m \u001b[32m━━━━━━━━━━━━━━━━━━━━\u001b[0m\u001b[37m\u001b[0m \u001b[1m73s\u001b[0m 5ms/step - accuracy: 0.4659 - loss: 1.3058 - val_accuracy: 0.4583 - val_loss: 1.3243\n",
            "Epoch 27/30\n",
            "\u001b[1m14942/14942\u001b[0m \u001b[32m━━━━━━━━━━━━━━━━━━━━\u001b[0m\u001b[37m\u001b[0m \u001b[1m73s\u001b[0m 5ms/step - accuracy: 0.4677 - loss: 1.3046 - val_accuracy: 0.4550 - val_loss: 1.3295\n",
            "Epoch 28/30\n",
            "\u001b[1m14942/14942\u001b[0m \u001b[32m━━━━━━━━━━━━━━━━━━━━\u001b[0m\u001b[37m\u001b[0m \u001b[1m73s\u001b[0m 5ms/step - accuracy: 0.4673 - loss: 1.3027 - val_accuracy: 0.4644 - val_loss: 1.3101\n",
            "Epoch 29/30\n",
            "\u001b[1m14942/14942\u001b[0m \u001b[32m━━━━━━━━━━━━━━━━━━━━\u001b[0m\u001b[37m\u001b[0m \u001b[1m81s\u001b[0m 5ms/step - accuracy: 0.4694 - loss: 1.3003 - val_accuracy: 0.4631 - val_loss: 1.3152\n",
            "Epoch 30/30\n",
            "\u001b[1m14942/14942\u001b[0m \u001b[32m━━━━━━━━━━━━━━━━━━━━\u001b[0m\u001b[37m\u001b[0m \u001b[1m86s\u001b[0m 5ms/step - accuracy: 0.4705 - loss: 1.2983 - val_accuracy: 0.4648 - val_loss: 1.3130\n"
          ]
        },
        {
          "output_type": "stream",
          "name": "stderr",
          "text": [
            "WARNING:absl:You are saving your model as an HDF5 file via `model.save()` or `keras.saving.save_model(model)`. This file format is considered legacy. We recommend using instead the native Keras format, e.g. `model.save('my_model.keras')` or `keras.saving.save_model(model, 'my_model.keras')`. \n"
          ]
        },
        {
          "output_type": "stream",
          "name": "stdout",
          "text": [
            "Training completed with positional encoding and model saved.\n"
          ]
        }
      ]
    },
    {
      "cell_type": "code",
      "source": [],
      "metadata": {
        "id": "6urrmD_XoO2l"
      },
      "execution_count": null,
      "outputs": []
    },
    {
      "cell_type": "code",
      "source": [],
      "metadata": {
        "id": "sJYnC1ecoO0E"
      },
      "execution_count": null,
      "outputs": []
    },
    {
      "cell_type": "code",
      "source": [],
      "metadata": {
        "id": "psyT5-KmoOyA"
      },
      "execution_count": null,
      "outputs": []
    },
    {
      "cell_type": "code",
      "source": [],
      "metadata": {
        "id": "xnHtlTTSoOvq"
      },
      "execution_count": null,
      "outputs": []
    },
    {
      "cell_type": "code",
      "source": [],
      "metadata": {
        "id": "MD1odPwSoOs7"
      },
      "execution_count": null,
      "outputs": []
    },
    {
      "cell_type": "code",
      "source": [],
      "metadata": {
        "id": "Zvf4PrrvljKU"
      },
      "execution_count": null,
      "outputs": []
    }
  ]
}